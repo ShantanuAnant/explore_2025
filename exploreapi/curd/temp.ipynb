{
 "cells": [
  {
   "cell_type": "code",
   "execution_count": 22,
   "metadata": {},
   "outputs": [],
   "source": [
    "import pandas as pd\n",
    "from sqlalchemy import create_engine\n",
    "import psycopg2"
   ]
  },
  {
   "cell_type": "code",
   "execution_count": 4,
   "metadata": {},
   "outputs": [],
   "source": [
    "dataframe = pd.read_csv(\"club_data.csv\")"
   ]
  },
  {
   "cell_type": "code",
   "execution_count": 8,
   "metadata": {},
   "outputs": [],
   "source": [
    "dataframe.drop(columns=['Timestamp'] , axis = 1, inplace = True)"
   ]
  },
  {
   "cell_type": "code",
   "execution_count": 11,
   "metadata": {},
   "outputs": [
    {
     "data": {
      "text/plain": [
       "Index(['Name', 'Domain', 'Role in your domain (Web Developer , Management)',\n",
       "       'Linkedin Profile Link  (If you dont have Linkedin profile , Type randomly)',\n",
       "       'Instagram Link (If you dont have instagram profile , Type randomly)',\n",
       "       'Email (rknec.edu)',\n",
       "       'GitHub Link( (If you dont have Github profile , Type randomly)'],\n",
       "      dtype='object')"
      ]
     },
     "execution_count": 11,
     "metadata": {},
     "output_type": "execute_result"
    }
   ],
   "source": [
    "dataframe.columns"
   ]
  },
  {
   "cell_type": "code",
   "execution_count": 15,
   "metadata": {},
   "outputs": [],
   "source": [
    "dataframe.rename(columns={\n",
    "    'Name': 'name', \n",
    "    'Domain': 'domain',\n",
    "    'Role in your domain (Web Developer , Management)' : 'role',\n",
    "    'Linkedin Profile Link  (If you dont have Linkedin profile , Type randomly)':'linkedin',\n",
    "    'Instagram Link (If you dont have instagram profile , Type randomly)' : 'instagram',\n",
    "    'Email (rknec.edu)' : 'email',\n",
    "    'GitHub Link( (If you dont have Github profile , Type randomly)' : 'github'\n",
    "    }, inplace = True)"
   ]
  },
  {
   "cell_type": "code",
   "execution_count": 23,
   "metadata": {},
   "outputs": [
    {
     "data": {
      "text/html": [
       "<div>\n",
       "<style scoped>\n",
       "    .dataframe tbody tr th:only-of-type {\n",
       "        vertical-align: middle;\n",
       "    }\n",
       "\n",
       "    .dataframe tbody tr th {\n",
       "        vertical-align: top;\n",
       "    }\n",
       "\n",
       "    .dataframe thead th {\n",
       "        text-align: right;\n",
       "    }\n",
       "</style>\n",
       "<table border=\"1\" class=\"dataframe\">\n",
       "  <thead>\n",
       "    <tr style=\"text-align: right;\">\n",
       "      <th></th>\n",
       "      <th>name</th>\n",
       "      <th>domain</th>\n",
       "      <th>role</th>\n",
       "      <th>linkedin</th>\n",
       "      <th>instagram</th>\n",
       "      <th>email</th>\n",
       "      <th>github</th>\n",
       "    </tr>\n",
       "  </thead>\n",
       "  <tbody>\n",
       "    <tr>\n",
       "      <th>0</th>\n",
       "      <td>Abhay Mishra</td>\n",
       "      <td>Web Dev</td>\n",
       "      <td>Web Developer</td>\n",
       "      <td>https://www.linkedin.com/in/abhaymishra1371?ut...</td>\n",
       "      <td>https://www.instagram.com/_abhay_mishra206?igs...</td>\n",
       "      <td>mishraar_2@rknec.edu</td>\n",
       "      <td>NaN</td>\n",
       "    </tr>\n",
       "    <tr>\n",
       "      <th>1</th>\n",
       "      <td>Tisha Parmar</td>\n",
       "      <td>Socials</td>\n",
       "      <td>Content Writer, Socials</td>\n",
       "      <td>https://www.linkedin.com/in/tisha-parmar-76992...</td>\n",
       "      <td>tishaparmar_04</td>\n",
       "      <td>Parmarts@rknec.edu</td>\n",
       "      <td>NaN</td>\n",
       "    </tr>\n",
       "    <tr>\n",
       "      <th>2</th>\n",
       "      <td>Harsh Pashine</td>\n",
       "      <td>Cloud &amp; AI</td>\n",
       "      <td>Cloud Developer</td>\n",
       "      <td>https://www.linkedin.com/in/harsh-pashine-434a...</td>\n",
       "      <td>qwertyuiop</td>\n",
       "      <td>pashinehd@rknec.edu</td>\n",
       "      <td>NaN</td>\n",
       "    </tr>\n",
       "    <tr>\n",
       "      <th>3</th>\n",
       "      <td>Jiya vij</td>\n",
       "      <td>Graphics</td>\n",
       "      <td>Designer</td>\n",
       "      <td>https://www.linkedin.com/in/jiya-vij-871b42292...</td>\n",
       "      <td>https://www.instagram.com/jiya_vij?igsh=MTNnZz...</td>\n",
       "      <td>vijj@rknec.edu</td>\n",
       "      <td>NaN</td>\n",
       "    </tr>\n",
       "    <tr>\n",
       "      <th>4</th>\n",
       "      <td>Devyani Keche</td>\n",
       "      <td>Management</td>\n",
       "      <td>Management</td>\n",
       "      <td>https://www.linkedin.com/in/devyani-keche</td>\n",
       "      <td>https://www.instagram.com/devyani_keche?igsh=M...</td>\n",
       "      <td>kecheds@rknec.edu</td>\n",
       "      <td>NaN</td>\n",
       "    </tr>\n",
       "  </tbody>\n",
       "</table>\n",
       "</div>"
      ],
      "text/plain": [
       "            name      domain                     role  \\\n",
       "0  Abhay Mishra      Web Dev           Web Developer    \n",
       "1  Tisha Parmar      Socials  Content Writer, Socials   \n",
       "2  Harsh Pashine  Cloud & AI         Cloud Developer    \n",
       "3       Jiya vij    Graphics                Designer    \n",
       "4  Devyani Keche  Management              Management    \n",
       "\n",
       "                                            linkedin  \\\n",
       "0  https://www.linkedin.com/in/abhaymishra1371?ut...   \n",
       "1  https://www.linkedin.com/in/tisha-parmar-76992...   \n",
       "2  https://www.linkedin.com/in/harsh-pashine-434a...   \n",
       "3  https://www.linkedin.com/in/jiya-vij-871b42292...   \n",
       "4          https://www.linkedin.com/in/devyani-keche   \n",
       "\n",
       "                                           instagram                 email  \\\n",
       "0  https://www.instagram.com/_abhay_mishra206?igs...  mishraar_2@rknec.edu   \n",
       "1                                    tishaparmar_04     Parmarts@rknec.edu   \n",
       "2                                         qwertyuiop   pashinehd@rknec.edu   \n",
       "3  https://www.instagram.com/jiya_vij?igsh=MTNnZz...        vijj@rknec.edu   \n",
       "4  https://www.instagram.com/devyani_keche?igsh=M...     kecheds@rknec.edu   \n",
       "\n",
       "  github  \n",
       "0    NaN  \n",
       "1    NaN  \n",
       "2    NaN  \n",
       "3    NaN  \n",
       "4    NaN  "
      ]
     },
     "execution_count": 23,
     "metadata": {},
     "output_type": "execute_result"
    }
   ],
   "source": [
    "dataframe.head()"
   ]
  },
  {
   "cell_type": "code",
   "execution_count": 26,
   "metadata": {},
   "outputs": [],
   "source": [
    "db_user = 'postgres'      # Replace with your PostgreSQL username\n",
    "db_password = 'Mongapost$2341'  # Replace with your PostgreSQL password\n",
    "db_host = 'localhost'             # Replace with your PostgreSQL host (usually localhost)\n",
    "db_port = '5432'                  # Replace with your PostgreSQL port (usually 5432)\n",
    "db_name = 'explore'    # Replace with your database name\n",
    "\n",
    "db_connection_str = f'postgresql://{db_user}:{db_password}@{db_host}:{db_port}/{db_name}'\n",
    "db_engine = create_engine(db_connection_str)"
   ]
  },
  {
   "cell_type": "code",
   "execution_count": 27,
   "metadata": {},
   "outputs": [
    {
     "data": {
      "text/plain": [
       "19"
      ]
     },
     "execution_count": 27,
     "metadata": {},
     "output_type": "execute_result"
    }
   ],
   "source": [
    "dataframe.to_sql('members', db_engine, if_exists='fail', index=False)"
   ]
  },
  {
   "cell_type": "code",
   "execution_count": null,
   "metadata": {},
   "outputs": [],
   "source": []
  }
 ],
 "metadata": {
  "kernelspec": {
   "display_name": "tf-gpu",
   "language": "python",
   "name": "python3"
  },
  "language_info": {
   "codemirror_mode": {
    "name": "ipython",
    "version": 3
   },
   "file_extension": ".py",
   "mimetype": "text/x-python",
   "name": "python",
   "nbconvert_exporter": "python",
   "pygments_lexer": "ipython3",
   "version": "3.9.18"
  }
 },
 "nbformat": 4,
 "nbformat_minor": 2
}
